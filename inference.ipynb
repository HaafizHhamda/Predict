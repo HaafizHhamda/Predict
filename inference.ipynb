{
 "cells": [
  {
   "cell_type": "code",
   "execution_count": 2,
   "id": "fd4225cb",
   "metadata": {},
   "outputs": [],
   "source": [
    "from tensorflow.keras.models import load_model\n",
    "\n",
    "# kalau model TIDAK memakai tf_hub.KerasLayer:\n",
    "\n",
    "infer_model = load_model(\"model_lstm_1.keras\")  # compile=False juga boleh untuk inference murni\n",
    "\n",
    "# load mapping kelas\n",
    "import json\n",
    "with open(\"class_names.json\") as f:\n",
    "    idx_to_star = {int(k): v for k, v in json.load(f).items()}\n"
   ]
  },
  {
   "cell_type": "code",
   "execution_count": 3,
   "id": "379c9efb",
   "metadata": {},
   "outputs": [
    {
     "name": "stdout",
     "output_type": "stream",
     "text": [
      "\u001b[1m1/1\u001b[0m \u001b[32m━━━━━━━━━━━━━━━━━━━━\u001b[0m\u001b[37m\u001b[0m \u001b[1m1s\u001b[0m 1s/step\n",
      "1 star  →  The food was cold and the staff were rude. Terrible experience.\n",
      "3 stars  →  Service was slow and my order was wrong, but the place was clean.\n",
      "4 stars  →  Food was okay, nothing special but not bad either.\n",
      "4 stars  →  Nice place, friendly staff, and good fries. I enjoyed it.\n",
      "5 stars  →  Everything was perfect! Delicious food, fast service, and kind staff.\n"
     ]
    }
   ],
   "source": [
    "import tensorflow as tf\n",
    "import numpy as np\n",
    "\n",
    "sample_texts = [\n",
    "    \"The food was cold and the staff were rude. Terrible experience.\",\n",
    "    \"Service was slow and my order was wrong, but the place was clean.\",\n",
    "    \"Food was okay, nothing special but not bad either.\",\n",
    "    \"Nice place, friendly staff, and good fries. I enjoyed it.\",\n",
    "    \"Everything was perfect! Delicious food, fast service, and kind staff.\"\n",
    "]\n",
    "\n",
    "x_pred = tf.constant(sample_texts, dtype=tf.string)   # <- ini kunci anti error dtype\n",
    "probs  = infer_model.predict(x_pred)                  # shape: (N, 5)\n",
    "pred_i = probs.argmax(axis=1)                         # 0..4\n",
    "\n",
    "for txt, i in zip(sample_texts, pred_i):\n",
    "    print(f\"{idx_to_star[i]}  →  {txt}\")\n"
   ]
  },
  {
   "cell_type": "code",
   "execution_count": 4,
   "id": "c23b49fc",
   "metadata": {},
   "outputs": [
    {
     "data": {
      "text/html": [
       "<div>\n",
       "<style scoped>\n",
       "    .dataframe tbody tr th:only-of-type {\n",
       "        vertical-align: middle;\n",
       "    }\n",
       "\n",
       "    .dataframe tbody tr th {\n",
       "        vertical-align: top;\n",
       "    }\n",
       "\n",
       "    .dataframe thead th {\n",
       "        text-align: right;\n",
       "    }\n",
       "</style>\n",
       "<table border=\"1\" class=\"dataframe\">\n",
       "  <thead>\n",
       "    <tr style=\"text-align: right;\">\n",
       "      <th></th>\n",
       "      <th>1 star</th>\n",
       "      <th>2 stars</th>\n",
       "      <th>3 stars</th>\n",
       "      <th>4 stars</th>\n",
       "      <th>5 stars</th>\n",
       "    </tr>\n",
       "  </thead>\n",
       "  <tbody>\n",
       "    <tr>\n",
       "      <th>0</th>\n",
       "      <td>0.988787</td>\n",
       "      <td>0.004696</td>\n",
       "      <td>0.003032</td>\n",
       "      <td>0.001371</td>\n",
       "      <td>0.002113</td>\n",
       "    </tr>\n",
       "    <tr>\n",
       "      <th>1</th>\n",
       "      <td>0.005756</td>\n",
       "      <td>0.008870</td>\n",
       "      <td>0.954265</td>\n",
       "      <td>0.015890</td>\n",
       "      <td>0.015219</td>\n",
       "    </tr>\n",
       "    <tr>\n",
       "      <th>2</th>\n",
       "      <td>0.001301</td>\n",
       "      <td>0.008960</td>\n",
       "      <td>0.016784</td>\n",
       "      <td>0.947470</td>\n",
       "      <td>0.025485</td>\n",
       "    </tr>\n",
       "    <tr>\n",
       "      <th>3</th>\n",
       "      <td>0.000434</td>\n",
       "      <td>0.002193</td>\n",
       "      <td>0.016885</td>\n",
       "      <td>0.824092</td>\n",
       "      <td>0.156396</td>\n",
       "    </tr>\n",
       "    <tr>\n",
       "      <th>4</th>\n",
       "      <td>0.001013</td>\n",
       "      <td>0.000278</td>\n",
       "      <td>0.002693</td>\n",
       "      <td>0.016609</td>\n",
       "      <td>0.979408</td>\n",
       "    </tr>\n",
       "  </tbody>\n",
       "</table>\n",
       "</div>"
      ],
      "text/plain": [
       "     1 star   2 stars   3 stars   4 stars   5 stars\n",
       "0  0.988787  0.004696  0.003032  0.001371  0.002113\n",
       "1  0.005756  0.008870  0.954265  0.015890  0.015219\n",
       "2  0.001301  0.008960  0.016784  0.947470  0.025485\n",
       "3  0.000434  0.002193  0.016885  0.824092  0.156396\n",
       "4  0.001013  0.000278  0.002693  0.016609  0.979408"
      ]
     },
     "execution_count": 4,
     "metadata": {},
     "output_type": "execute_result"
    }
   ],
   "source": [
    "import pandas as pd\n",
    "pd.DataFrame(probs, columns=[\"1 star\",\"2 stars\",\"3 stars\",\"4 stars\",\"5 stars\"])\n"
   ]
  },
  {
   "cell_type": "code",
   "execution_count": 5,
   "id": "04601eb3",
   "metadata": {},
   "outputs": [
    {
     "name": "stdout",
     "output_type": "stream",
     "text": [
      "\u001b[1m1/1\u001b[0m \u001b[32m━━━━━━━━━━━━━━━━━━━━\u001b[0m\u001b[37m\u001b[0m \u001b[1m1s\u001b[0m 796ms/step\n",
      "1 star → The food was cold and the staff were rude.\n",
      "3 stars → Service was slow, but the burger was decent.\n",
      "5 stars → Everything was perfect! Friendly staff and delicious food.\n"
     ]
    }
   ],
   "source": [
    "def predict_rating(texts, model, idx_to_star):\n",
    "    x = tf.constant(texts, dtype=tf.string)\n",
    "    p = model.predict(x)\n",
    "    top = p.argmax(axis=1)\n",
    "    labels = [idx_to_star[i] for i in top]\n",
    "    return labels, p\n",
    "\n",
    "# contoh pakai:\n",
    "labels, p = predict_rating(\n",
    "    [\"The food was cold and the staff were rude.\",\n",
    "    \"Service was slow, but the burger was decent.\",\n",
    "    \"Everything was perfect! Friendly staff and delicious food.\"],\n",
    "    infer_model, idx_to_star\n",
    ")\n",
    "for t, lab in zip([\n",
    "                    \"The food was cold and the staff were rude.\",\n",
    "                    \"Service was slow, but the burger was decent.\",\n",
    "                    \"Everything was perfect! Friendly staff and delicious food.\"], labels):\n",
    "    print(lab, \"→\", t)\n"
   ]
  }
 ],
 "metadata": {
  "kernelspec": {
   "display_name": "Python 3",
   "language": "python",
   "name": "python3"
  },
  "language_info": {
   "codemirror_mode": {
    "name": "ipython",
    "version": 3
   },
   "file_extension": ".py",
   "mimetype": "text/x-python",
   "name": "python",
   "nbconvert_exporter": "python",
   "pygments_lexer": "ipython3",
   "version": "3.9.23"
  }
 },
 "nbformat": 4,
 "nbformat_minor": 5
}
